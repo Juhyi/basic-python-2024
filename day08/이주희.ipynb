{
 "cells": [
  {
   "cell_type": "markdown",
   "metadata": {},
   "source": [
    "## 1번 문제"
   ]
  },
  {
   "cell_type": "code",
   "execution_count": 1,
   "metadata": {},
   "outputs": [
    {
     "name": "stdout",
     "output_type": "stream",
     "text": [
      "정확한 원의 크기는 314.1592653589793\n"
     ]
    }
   ],
   "source": [
    "# 1번 문제\n",
    "import math\n",
    "radius = 10\n",
    "\n",
    "print(f'정확한 원의 크기는 {radius * radius *math.pi}')\n"
   ]
  },
  {
   "cell_type": "markdown",
   "metadata": {},
   "source": [
    "## 2번 문제"
   ]
  },
  {
   "cell_type": "code",
   "execution_count": 2,
   "metadata": {},
   "outputs": [],
   "source": [
    "# 2번 문제\n",
    "dict_planet = { 'Mercury' : '수성', 'Venus' : '금성',\n",
    "                'Earth' : '지구', 'Mars' : '화성', 'Jupiter' : '목성', \n",
    "                'Saturn' : '토성' ,'Uranus' : '천왕성', 'Neptune ' : '해왕성'\n",
    "                 }\n",
    "\n",
    "planet = input('행성이름 입력(영어만 가능) > ')\n",
    "\n",
    "for key in dict_planet:\n",
    "    if key == planet:\n",
    "        print(key,':', dict_planet[key], '입니다.')\n"
   ]
  },
  {
   "cell_type": "markdown",
   "metadata": {},
   "source": [
    "## 3번 문제"
   ]
  },
  {
   "cell_type": "code",
   "execution_count": 2,
   "metadata": {},
   "outputs": [],
   "source": [
    "# 3번 문제\n",
    "\n",
    "str = input('영어 문자열을 입력하세요 > ')\n",
    "\n",
    "def solution(str):    \n",
    "    answer = ''\n",
    "    arr = str.split(' ')\n",
    "    print(f'문장의 단어 갯수는 {len(arr)}개 입니다')\n",
    "    \n",
    "    for i in range(0, len(arr)):\n",
    "            if(i%2==0):\n",
    "                answer += arr[i].upper()\n",
    "            else:\n",
    "                answer += arr[i].lower()\n",
    "            answer += ' '\n",
    "    answer = answer[:-1]\n",
    "    return answer\n",
    "print(solution(str))\n"
   ]
  },
  {
   "cell_type": "markdown",
   "metadata": {},
   "source": [
    "## 4번 문제"
   ]
  },
  {
   "cell_type": "code",
   "execution_count": 3,
   "metadata": {},
   "outputs": [],
   "source": [
    "# 4번 문제\n",
    "\n",
    "def get_url(web_name): \n",
    "    websites = {\n",
    "        \"google\": 'www.google.com',\n",
    "        \"naver\":'www.naver.com',\n",
    "        \"daum\":'www.daum.net'\n",
    "    }\n",
    "\n",
    "    return websites.get(web_name)\n",
    "\n",
    "\n",
    "web_name = input('영문 이름을 입력하세요 >  ')   \n",
    "url = get_url(web_name)\n",
    "    \n",
    "if url:\n",
    "    print(f'웹사이트 주소는 {url} 입니다.') \n",
    "else:\n",
    "    print(\"해당 주소는 저장되어 있지 않습니다.\") \n"
   ]
  },
  {
   "cell_type": "markdown",
   "metadata": {},
   "source": [
    "## 5번 문제"
   ]
  },
  {
   "cell_type": "code",
   "execution_count": 5,
   "metadata": {},
   "outputs": [],
   "source": [
    "# 5번 문제\n",
    "\n",
    "dan = input('원하는 단을 입력하세요(숫자만 입력) > ')\n",
    "dan = int(dan)\n",
    "print(f'{dan}단----->')\n",
    "for i in range(1,10): \n",
    "\n",
    "    print(f'{dan} X {i} = {dan * i}',end = '   ')  \n",
    "    print(' ') "
   ]
  }
 ],
 "metadata": {
  "kernelspec": {
   "display_name": "Python 3",
   "language": "python",
   "name": "python3"
  },
  "language_info": {
   "codemirror_mode": {
    "name": "ipython",
    "version": 3
   },
   "file_extension": ".py",
   "mimetype": "text/x-python",
   "name": "python",
   "nbconvert_exporter": "python",
   "pygments_lexer": "ipython3",
   "version": "3.11.5"
  }
 },
 "nbformat": 4,
 "nbformat_minor": 2
}

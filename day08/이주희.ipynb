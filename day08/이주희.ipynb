{
 "cells": [
  {
   "cell_type": "markdown",
   "metadata": {},
   "source": [
    "## 1번 문제"
   ]
  },
  {
   "cell_type": "code",
   "execution_count": 2,
   "metadata": {},
   "outputs": [],
   "source": [
    "# 1번 문제\n",
    "import math\n",
    "radius = int(input('반지름 입력> '))\n",
    "\n",
    "print(f'원의 크기는 {radius * radius *math.pi}')\n"
   ]
  },
  {
   "cell_type": "code",
   "execution_count": null,
   "metadata": {},
   "outputs": [],
   "source": []
  },
  {
   "cell_type": "markdown",
   "metadata": {},
   "source": []
  },
  {
   "cell_type": "code",
   "execution_count": 2,
   "metadata": {},
   "outputs": [
    {
     "ename": "KeyError",
     "evalue": "'Mars]'",
     "output_type": "error",
     "traceback": [
      "\u001b[1;31m---------------------------------------------------------------------------\u001b[0m",
      "\u001b[1;31mKeyError\u001b[0m                                  Traceback (most recent call last)",
      "Cell \u001b[1;32mIn[2], line 7\u001b[0m\n\u001b[0;32m      1\u001b[0m dict_planet \u001b[38;5;241m=\u001b[39m { \u001b[38;5;124m'\u001b[39m\u001b[38;5;124mMercury\u001b[39m\u001b[38;5;124m'\u001b[39m : \u001b[38;5;124m'\u001b[39m\u001b[38;5;124m수성\u001b[39m\u001b[38;5;124m'\u001b[39m, \u001b[38;5;124m'\u001b[39m\u001b[38;5;124mVenus\u001b[39m\u001b[38;5;124m'\u001b[39m : \u001b[38;5;124m'\u001b[39m\u001b[38;5;124m금성\u001b[39m\u001b[38;5;124m'\u001b[39m,\n\u001b[0;32m      2\u001b[0m                 \u001b[38;5;124m'\u001b[39m\u001b[38;5;124mEarth\u001b[39m\u001b[38;5;124m'\u001b[39m : \u001b[38;5;124m'\u001b[39m\u001b[38;5;124m지구\u001b[39m\u001b[38;5;124m'\u001b[39m, \u001b[38;5;124m'\u001b[39m\u001b[38;5;124mMars\u001b[39m\u001b[38;5;124m'\u001b[39m : \u001b[38;5;124m'\u001b[39m\u001b[38;5;124m화성\u001b[39m\u001b[38;5;124m'\u001b[39m, \u001b[38;5;124m'\u001b[39m\u001b[38;5;124mJupiter\u001b[39m\u001b[38;5;124m'\u001b[39m : \u001b[38;5;124m'\u001b[39m\u001b[38;5;124m목성\u001b[39m\u001b[38;5;124m'\u001b[39m, \n\u001b[0;32m      3\u001b[0m                 \u001b[38;5;124m'\u001b[39m\u001b[38;5;124mSaturn\u001b[39m\u001b[38;5;124m'\u001b[39m : \u001b[38;5;124m'\u001b[39m\u001b[38;5;124m토성\u001b[39m\u001b[38;5;124m'\u001b[39m ,\u001b[38;5;124m'\u001b[39m\u001b[38;5;124mUranus\u001b[39m\u001b[38;5;124m'\u001b[39m : \u001b[38;5;124m'\u001b[39m\u001b[38;5;124m천왕성\u001b[39m\u001b[38;5;124m'\u001b[39m, \u001b[38;5;124m'\u001b[39m\u001b[38;5;124mNeptune \u001b[39m\u001b[38;5;124m'\u001b[39m : \u001b[38;5;124m'\u001b[39m\u001b[38;5;124m해왕성\u001b[39m\u001b[38;5;124m'\u001b[39m\n\u001b[0;32m      4\u001b[0m                  }\n\u001b[0;32m      6\u001b[0m kname \u001b[38;5;241m=\u001b[39m \u001b[38;5;28minput\u001b[39m(\u001b[38;5;124m'\u001b[39m\u001b[38;5;124m행성이름 입력(영어만 가능) > \u001b[39m\u001b[38;5;124m'\u001b[39m)\n\u001b[1;32m----> 7\u001b[0m \u001b[38;5;28mprint\u001b[39m(\u001b[43mdict_planet\u001b[49m\u001b[43m[\u001b[49m\u001b[43mkname\u001b[49m\u001b[43m]\u001b[49m)\n",
      "\u001b[1;31mKeyError\u001b[0m: 'Mars]'"
     ]
    }
   ],
   "source": [
    "dict_planet = { 'Mercury' : '수성', 'Venus' : '금성',\n",
    "                'Earth' : '지구', 'Mars' : '화성', 'Jupiter' : '목성', \n",
    "                'Saturn' : '토성' ,'Uranus' : '천왕성', 'Neptune ' : '해왕성'\n",
    "                 }\n",
    "\n",
    "kname = input('행성이름 입력(영어만 가능) > ')\n",
    "print(dict_planet[kname])"
   ]
  },
  {
   "cell_type": "markdown",
   "metadata": {},
   "source": [
    "## 2번 문제"
   ]
  },
  {
   "cell_type": "code",
   "execution_count": null,
   "metadata": {},
   "outputs": [],
   "source": [
    "# 2번 문제\n",
    "dict_planet = { 'Mercury' : '수성', 'Venus' : '금성',\n",
    "                'Earth' : '지구', 'Mars' : '화성', 'Jupiter' : '목성', \n",
    "                'Saturn' : '토성' ,'Uranus' : '천왕성', 'Neptune ' : '해왕성'\n",
    "                 }\n",
    "\n",
    "planet = input('행성이름 입력(영어만 가능) > ')\n",
    "\n",
    "for key in dict_planet:\n",
    "    if key == planet:\n",
    "        print(key,':', dict_planet[key], '입니다.')\n"
   ]
  },
  {
   "cell_type": "markdown",
   "metadata": {},
   "source": [
    "## 3번 문제"
   ]
  },
  {
   "cell_type": "code",
   "execution_count": null,
   "metadata": {},
   "outputs": [],
   "source": [
    "# 3번 문제\n",
    "\n",
    "str = input('영어 문자열을 입력하세요 > ')\n",
    "\n",
    "def solution(str):    \n",
    "    answer = ''\n",
    "    arr = str.split(' ')\n",
    "    print(f'문장의 단어 갯수는 {len(arr)}개 입니다')\n",
    "    \n",
    "    for i in range(0, len(arr)):\n",
    "            if(i%2==0):\n",
    "                answer += arr[i].upper()\n",
    "            else:\n",
    "                answer += arr[i].lower()\n",
    "            answer += ' '\n",
    "    answer = answer[:-1]\n",
    "    return answer\n",
    "print(solution(str))\n"
   ]
  },
  {
   "cell_type": "markdown",
   "metadata": {},
   "source": [
    "## 4번 문제"
   ]
  },
  {
   "cell_type": "code",
   "execution_count": null,
   "metadata": {},
   "outputs": [],
   "source": [
    "# 4번 문제\n",
    "\n",
    "def get_url(web_name): \n",
    "    websites = {\n",
    "        \"google\": 'www.google.com',\n",
    "        \"naver\":'www.naver.com',\n",
    "        \"daum\":'www.daum.net'\n",
    "    }\n",
    "\n",
    "    return websites.get(web_name)\n",
    "\n",
    "\n",
    "web_name = input('영문 이름을 입력하세요 >  ')   \n",
    "url = get_url(web_name)\n",
    "    \n",
    "if url:\n",
    "    print(f'웹사이트 주소는 {url} 입니다.') \n",
    "else:\n",
    "    print(\"해당 주소는 저장되어 있지 않습니다.\") \n"
   ]
  },
  {
   "cell_type": "markdown",
   "metadata": {},
   "source": [
    "## 5번 문제"
   ]
  },
  {
   "cell_type": "code",
   "execution_count": null,
   "metadata": {},
   "outputs": [],
   "source": [
    "# 5번 문제\n",
    "\n",
    "dan = input('원하는 단을 입력하세요(숫자만 입력) > ')\n",
    "dan = int(dan)\n",
    "print(f'{dan}단----->')\n",
    "for i in range(1,10): \n",
    "\n",
    "    print(f'{dan} X {i} = {dan * i}',end = '   ')  \n",
    "    print(' ') "
   ]
  }
 ],
 "metadata": {
  "kernelspec": {
   "display_name": "Python 3",
   "language": "python",
   "name": "python3"
  },
  "language_info": {
   "codemirror_mode": {
    "name": "ipython",
    "version": 3
   },
   "file_extension": ".py",
   "mimetype": "text/x-python",
   "name": "python",
   "nbconvert_exporter": "python",
   "pygments_lexer": "ipython3",
   "version": "3.11.5"
  }
 },
 "nbformat": 4,
 "nbformat_minor": 2
}
